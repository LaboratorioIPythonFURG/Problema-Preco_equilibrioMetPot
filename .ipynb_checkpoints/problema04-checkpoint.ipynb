{
 "cells": [
  {
   "cell_type": "markdown",
   "source": [
    "# Problema 4\n",
    "_(Fonte: Linear Algebra and Its Applications. Addison-Wesley Longman, 1997)_\n",
    "\n",
    "Suponha que uma economia consista nos setores de Carvão, Energia Elétrica e Aço, e a produção de cada setor\n",
    "esteja distribuída entre os demais setores de acordo com a Tabela 1. A segunda coluna da Tabela 1 mostra \n",
    "que a produção de Energia Elétrica é distribuída da seguinte forma: 40% para Carvão, 50% para Aço e os restantes\n",
    "10% para Energia Elétrica (Energia Elétrica considera esses 10% parte dos custos necessários para manter seu negócio). Determine os preços de equilíbrio, isto é, que tornam a receita de cada setor igual à sua despesa.\n",
    "\n",
    "<img src=\"image1.png\" width=\"400px\" style=\"display: block; margin:auto\" />\n",
    "\n",
    "\n",
    "\n"
   ],
   "metadata": {}
  }
 ],
 "metadata": {
  "orig_nbformat": 4,
  "language_info": {
   "name": "python"
  }
 },
 "nbformat": 4,
 "nbformat_minor": 2
}