{
 "cells": [
  {
   "cell_type": "markdown",
   "metadata": {},
   "source": [
    "# Problema 4\n",
    "_(Fonte: Linear Algebra and Its Applications. Addison-Wesley Longman, 1997)_\n",
    "\n",
    "Suponha que uma economia consista nos setores de Carvão, Energia Elétrica e Aço, e a produção de cada setor\n",
    "esteja distribuída entre os demais setores de acordo com a Tabela 1. A segunda coluna da Tabela 1 mostra \n",
    "que a produção de Energia Elétrica é distribuída da seguinte forma: 40% para Carvão, 50% para Aço e os restantes\n",
    "10% para Energia Elétrica (Energia Elétrica considera esses 10% parte dos custos necessários para manter seu negócio). Determine os preços de equilíbrio, isto é, que tornam a receita de cada setor igual à sua despesa.\n",
    "\n",
    "<img src=\"image1.png\" width=\"500px\" style=\"display: block; margin:auto\" />\n",
    "<center>Fonte: Adaptado de Linear Algebra and Its Applications. Addison-Wesley Longman, 1997.</center>\n",
    "\n",
    "\n",
    "\n"
   ]
  },
  {
   "cell_type": "markdown",
   "metadata": {},
   "source": [
    "# Solução\n",
    "\n",
    "O problema nos pede um ponto de equilíbrio no sistema gerado pela distribuição de produção de diferentes energias.\n",
    "Um equilíbrio nesse contexto significa que os parâmetros do sistema são iguais ao seu resultado.\n",
    "\n",
    "$$\n",
    "Ax = x\n",
    "$$\n",
    "\n",
    "Observa-se pela definição acima que $A = I$, ou $A = 1$. O que significa que a transformação descrita pelo sistema\n",
    "tem o efeito de uma multiplicação por escalar $\\lambda = 1$ ao vetor $x$. Precisamos então encontrar $x$ para \n",
    "termos um valor de equilíbrio."
   ]
  },
  {
   "cell_type": "markdown",
   "metadata": {},
   "source": [
    "## Autovetores e Autovalores\n",
    "\n",
    "Autovetores são vetores, diferentes de $0$, de uma transformação linear $T$, que têm seu valor aumentado por um fator \n",
    "$\\lambda$ quando $T$ é aplicada a si. Isto é,\n",
    "$$\n",
    "T(x) = \\lambda x\n",
    "$$\n",
    "\n",
    "Na equação acima, $\\lambda$ é um autovalor, ou seja, um fator ao qual o autovalor é escalado.\n"
   ]
  },
  {
   "cell_type": "markdown",
   "metadata": {},
   "source": [
    "O primeiro passo na obtenção dos autovetores de uma transformação linear é encontrar os seus autovalores.\n",
    "Para isso, inicia-se buscando as raízes do polinômio característico definido pela determinante\n",
    "$$\n",
    "| A-\\lambda I |\n",
    "$$"
   ]
  },
  {
   "cell_type": "markdown",
   "metadata": {},
   "source": [
    "Em seguida, para cada autovalor $\\lambda_i$ encontrado, o vetor $v$ representa um autovetor no sistema\n",
    "$$\n",
    "(A-\\lambda_i I)v = 0\n",
    "$$"
   ]
  },
  {
   "cell_type": "markdown",
   "metadata": {},
   "source": [
    "A matriz do problema tem os seguintes valores:\n",
    "\n",
    "$$\n",
    "A = \n",
    "\\begin{bmatrix}\n",
    "0.0 & 0.4 & 0.6 \\\\\n",
    "0.6 & 0.1 & 0.2 \\\\\n",
    "0.4 & 0.5 & 0.2 \n",
    "\\end{bmatrix}\n",
    "=\n",
    "\\begin{bmatrix}\n",
    "0 & \\frac{4}{10} & \\frac{6}{10} \\\\\n",
    "\\frac{6}{10} & \\frac{1}{10} & \\frac{2}{10} \\\\\n",
    "\\frac{4}{10} & \\frac{5}{10} & \\frac{2}{10}\n",
    "\\end{bmatrix}\n",
    "$$"
   ]
  },
  {
   "cell_type": "markdown",
   "metadata": {},
   "source": [
    "Como especificado antes, para encontrar os autovalores de $A$ calculamos as raízes do polinômio gerado por\n",
    " $\\begin{vmatrix} A-\\lambda I \\end{vmatrix}$.\n",
    "\n",
    "$$ \n",
    "A - I\\lambda =\n",
    "\\begin{bmatrix}\n",
    "(0 - \\lambda) & \\frac{4}{10} & \\frac{6}{10} \\\\\n",
    "\\frac{6}{10} & (\\frac{1}{10} - \\lambda) & \\frac{2}{10} \\\\\n",
    "\\frac{4}{10} & \\frac{5}{10} & (\\frac{2}{10} - \\lambda)\n",
    "\\end{bmatrix}\n",
    "$$"
   ]
  },
  {
   "cell_type": "markdown",
   "metadata": {},
   "source": [
    "$$ \n",
    "\\begin{align*}\n",
    "|A - \\lambda I| &=\n",
    "-\\lambda \\begin{vmatrix}\n",
    "(\\frac{1}{10}-\\lambda) & \\frac{2}{10} \\\\\n",
    "\\frac{5}{10} & (\\frac{2}{10} - \\lambda)\n",
    "\\end{vmatrix}\n",
    "\n",
    "-\\frac{4}{10} \\begin{vmatrix}\n",
    "\\frac{6}{10} & \\frac{2}{10} \\\\\n",
    "\\frac{4}{10} & (\\frac{2}{10} - \\lambda)\n",
    "\\end{vmatrix}\n",
    "\n",
    "+ \\frac{6}{10} \\begin{vmatrix}\n",
    "\\frac{6}{10} & (\\frac{1}{10} - \\lambda) \\\\\n",
    "\\frac{4}{10} & \\frac{5}{10}\n",
    "\\end{vmatrix}\n",
    "\\\\\n",
    "\n",
    "&= -\\lambda^3 + \\frac{3}{10}\\lambda^2 + \\frac{48}{100}\\lambda + \\frac{22}{100}\n",
    "\n",
    "\\end{align*}\n",
    "$$\n"
   ]
  },
  {
   "cell_type": "markdown",
   "metadata": {},
   "source": [
    "Podemos observar que se $\\lambda = 1$, a equação é satisfeita. Portanto, um de nossos autovalores é $1$.\n",
    "\n",
    "$$\n",
    "-\\lambda^3 + \\frac{3}{10}\\lambda^2 + \\frac{48}{100}\\lambda + \\frac{22}{100} = 0 \\\\\n",
    "\\lambda = 1 \\Rightarrow -1 + \\frac{3}{10} + \\frac{48}{100} + \\frac{22}{100} = 0\n",
    "$$"
   ]
  },
  {
   "cell_type": "markdown",
   "metadata": {},
   "source": [
    "Substituindo $\\lambda$ por $1$ em $ \\begin{vmatrix} A - \\lambda I \\end{vmatrix} $\n",
    "\n",
    "$$\n",
    "\\lambda = 1 \\Rightarrow \n",
    "|A-\\lambda I| = \\begin{vmatrix}\n",
    "-1 & \\frac{4}{10} & \\frac{6}{10} \\\\\n",
    "\\frac{6}{10} & \\frac{-9}{10} & \\frac{2}{10} \\\\\n",
    "\\frac{4}{10} & \\frac{5}{10} & \\frac{-8}{10}\n",
    "\\end{vmatrix}\n",
    "$$"
   ]
  },
  {
   "cell_type": "markdown",
   "metadata": {},
   "source": [
    "E então resolvemos o sistema homogêneo abaixo através da elimiação gaussiana\n",
    "\n",
    "$$\n",
    "(A - \\lambda I)v = 0 \\Leftrightarrow \\begin{bmatrix}\n",
    "-1 & \\frac{4}{10} & \\frac{6}{10} \\\\\n",
    "\\frac{6}{10} & \\frac{-9}{10} & \\frac{2}{10} \\\\\n",
    "\\frac{4}{10} & \\frac{5}{10} & \\frac{-8}{10}\n",
    "\\end{bmatrix}\n",
    "\\begin{bmatrix} v_1 \\\\ v_2 \\\\ v_3 \\end{bmatrix}\n",
    "=\n",
    "0\n",
    "$$"
   ]
  },
  {
   "cell_type": "markdown",
   "metadata": {},
   "source": [
    "e observamos que a matriz de coeficientes é singular, ou seja, possui \n",
    "colinearidade entre seus vetores coluna:\n",
    "\n",
    "$$\n",
    "\\begin{bmatrix}\n",
    "1 & 0 & -\\frac{31}{33} & 0 \\\\\n",
    "0 & 1 & -\\frac{28}{33} & 0 \\\\\n",
    "0 & 0 & 0 & 0\n",
    "\\end{bmatrix}\n",
    "$$"
   ]
  },
  {
   "cell_type": "markdown",
   "metadata": {},
   "source": [
    "Logo, $z$ pode ser tratado como uma variável livre. Definindo $z = 1$ e substituindo\n",
    "\n",
    "$$\n",
    "z = 1 \\\\\n",
    "y = \\frac{28}{33} \\\\\n",
    "x = \\frac{31}{33} \\\\\n",
    "$$"
   ]
  },
  {
   "cell_type": "markdown",
   "metadata": {},
   "source": [
    "Pelo fato de autovetores terem a propriedade de serem apenas escalados pelo seu autovalor correspondente quando a\n",
    "transformação de sua origem é aplicada à eles, podemos observar que o resultado é correto ao multiplicar a matriz\n",
    "original pelo vetor coluna composto pelos valores encontrados\n",
    "\n",
    "$$\n",
    "\\begin{bmatrix}\n",
    "0.0 & 0.4 & 0.6 \\\\\n",
    "0.6 & 0.1 & 0.2 \\\\\n",
    "0.4 & 0.5 & 0.2 \n",
    "\\end{bmatrix}\n",
    "\\begin{bmatrix}\n",
    "\\frac{31}{33} \\\\ \\frac{28}{33} \\\\ 1\n",
    "\\end{bmatrix}\n",
    "=\n",
    "\\begin{bmatrix}\n",
    "\\frac{31}{33} \\\\ \\frac{28}{33} \\\\ 1\n",
    "\\end{bmatrix}\n",
    "$$"
   ]
  },
  {
   "cell_type": "markdown",
   "metadata": {},
   "source": [
    "## Autovalores com Decomposição QR\n",
    "\n",
    "É possível obter os autovalores de uma transformação linear através de um algoritmo iterativo. Iniciamos obtendo\n",
    "a decomposição QR da matriz de entrada $A$ e em seguida repetimos as operações \n",
    "$$\n",
    "Q, R := qr(A) \\\\\n",
    "A := RQ\n",
    "$$\n",
    "\n",
    "Repetindo esse processo o suficiente, a diagonal principal de $A$ deve eventualmente convergir à parte real \n",
    "dos seus autovalores. Para uma descrição mais detalhada do método de decomposição QR, desenvolvemos uma explicação \n",
    "no problema 3."
   ]
  },
  {
   "cell_type": "markdown",
   "metadata": {},
   "source": [
    "### Implementação"
   ]
  },
  {
   "cell_type": "code",
   "execution_count": 67,
   "metadata": {},
   "outputs": [],
   "source": [
    "# Importação das bibliotecas que iremos usar\n",
    "import math\n",
    "import scipy\n",
    "import numpy as np"
   ]
  },
  {
   "cell_type": "code",
   "execution_count": 68,
   "metadata": {},
   "outputs": [],
   "source": [
    "# Nem sempre converge para todos autovalores, nem somente a parte real.\n",
    "# Nesse caso A_[0,0] converge para um autovalor válido.\n",
    "# Autovalores aproximados na diagonal principal.\n",
    "# TODO: Pivotamento\n",
    "# TODO: Matriz Hessenberg\n",
    "\n",
    "def calcular_autovalores_qr(A, n_iteracoes=5000):\n",
    "    # Inicialmente copiamos a matriz\n",
    "    # para que alterações se limitem\n",
    "    # ao parâmetro.\n",
    "    A_ = A.copy()\n",
    "\n",
    "    # Em seguida iteramos n = 50000 vezes\n",
    "    # as operações previamente definidas\n",
    "    for i in range(n_iteracoes):\n",
    "\n",
    "        # Usamos a função do scipy para calcular a decomposição QR.\n",
    "        Q, R = scipy.linalg.qr(A_)\n",
    "        A_ = R@Q\n",
    "\n",
    "    # Os autovalores aproximados ficam na diagonal principal.\n",
    "    return A_.diagonal()"
   ]
  },
  {
   "cell_type": "markdown",
   "metadata": {},
   "source": [
    "## Definição do Sistema"
   ]
  },
  {
   "cell_type": "code",
   "execution_count": 107,
   "metadata": {},
   "outputs": [
    {
     "data": {
      "text/plain": [
       "array([[0. , 0.4, 0.6],\n",
       "       [0.6, 0.1, 0.2],\n",
       "       [0.4, 0.5, 0.2]])"
      ]
     },
     "execution_count": 107,
     "metadata": {},
     "output_type": "execute_result"
    }
   ],
   "source": [
    "# Definição da matriz do problema.\n",
    "A = np.array([\n",
    "    [ 0.0, 0.4, 0.6 ],\n",
    "    [ 0.6, 0.1, 0.2 ],\n",
    "    [ 0.4, 0.5, 0.2 ]\n",
    "])\n",
    "A"
   ]
  },
  {
   "cell_type": "code",
   "execution_count": 113,
   "metadata": {},
   "outputs": [
    {
     "data": {
      "text/plain": [
       "array([ 1.        , -0.34371361, -0.35628639])"
      ]
     },
     "execution_count": 113,
     "metadata": {},
     "output_type": "execute_result"
    }
   ],
   "source": [
    "autovalores = calcular_autovalores_qr(A, n_iteracoes=10000)\n",
    "autovalores"
   ]
  },
  {
   "cell_type": "code",
   "execution_count": 112,
   "metadata": {},
   "outputs": [
    {
     "data": {
      "text/plain": [
       "array([ 1.  +0.j        , -0.35+0.13228757j, -0.35-0.13228757j])"
      ]
     },
     "execution_count": 112,
     "metadata": {},
     "output_type": "execute_result"
    }
   ],
   "source": [
    "# Podemos observar que a parte real dos autovalores se aproximam\n",
    "# dos mesmos autovalores obtidos pela função da biblioteca numpy\n",
    "np.linalg.eigvals(A)"
   ]
  },
  {
   "cell_type": "code",
   "execution_count": 114,
   "metadata": {},
   "outputs": [
    {
     "data": {
      "text/plain": [
       "array([[-1. ,  0.4,  0.6],\n",
       "       [ 0.6, -0.9,  0.2],\n",
       "       [ 0.4,  0.5, -0.8]])"
      ]
     },
     "execution_count": 114,
     "metadata": {},
     "output_type": "execute_result"
    }
   ],
   "source": [
    "# A - I*l_i\n",
    "def subtrair_autovalor(A, l):\n",
    "    return A-np.identity(A.shape[0])*l\n",
    "\n",
    "# Agora subtraimos o autovalor da função inicial.\n",
    "lambda_ = autovalores[0]\n",
    "A_menos_l = subtrair_autovalor(A, lambda_)\n",
    "A_menos_l"
   ]
  },
  {
   "cell_type": "code",
   "execution_count": 115,
   "metadata": {},
   "outputs": [
    {
     "data": {
      "text/plain": [
       "array([[-1.  ,  0.4 ,  0.6 ],\n",
       "       [ 0.  , -0.66,  0.56],\n",
       "       [ 0.  ,  0.  , -0.  ]])"
      ]
     },
     "execution_count": 115,
     "metadata": {},
     "output_type": "execute_result"
    }
   ],
   "source": [
    "import scipy.linalg\n",
    "\n",
    "def matriz_triangular_superior(A):\n",
    "    # Retornamos apenas o U da fatoração LU.\n",
    "    return scipy.linalg.lu(A)[-1]\n",
    "\n",
    "Ae = matriz_triangular_superior(A_menos_l)\n",
    "Ae.round(10)"
   ]
  },
  {
   "cell_type": "code",
   "execution_count": 116,
   "metadata": {},
   "outputs": [
    {
     "data": {
      "text/plain": [
       "array([[-1.  ,  0.4 ,  0.6 ],\n",
       "       [ 0.  , -0.66,  0.56],\n",
       "       [ 0.  ,  0.  ,  1.  ]])"
      ]
     },
     "metadata": {},
     "output_type": "display_data"
    },
    {
     "data": {
      "text/plain": [
       "array([[0.93939394],\n",
       "       [0.84848485],\n",
       "       [1.        ]])"
      ]
     },
     "execution_count": 116,
     "metadata": {},
     "output_type": "execute_result"
    }
   ],
   "source": [
    "# Como a matriz obtida possui z variável,\n",
    "# podemos fixar z em um valor, e obter\n",
    "# os outros valores por substituição direta.\n",
    "\n",
    "# Mudamos o último valor da matriz para 1 (z = 1)\n",
    "Ae[-1,-1] = 1 \n",
    "display(Ae)\n",
    "\n",
    "# Criamos um vetor de variáveis independentes \n",
    "# onde o último coeficiente é 1.\n",
    "b = np.zeros((Ae.shape[0], 1))\n",
    "b[-1] = 1\n",
    "\n",
    "# E resolvemos o sistema. \n",
    "# Nesse caso usamos a função solve do numpy,\n",
    "# mas apenas por conveniência. É possível usar aqui\n",
    "# também a função resolver_U já desenvolvida\n",
    "# nos outros problemas.\n",
    "x = np.linalg.solve(Ae, b)\n",
    "x"
   ]
  },
  {
   "cell_type": "code",
   "execution_count": 119,
   "metadata": {},
   "outputs": [
    {
     "data": {
      "text/plain": [
       "array([0.93939394, 0.84848485, 1.        ])"
      ]
     },
     "metadata": {},
     "output_type": "display_data"
    },
    {
     "data": {
      "text/plain": [
       "array([0.93939394, 0.84848485, 1.        ])"
      ]
     },
     "metadata": {},
     "output_type": "display_data"
    }
   ],
   "source": [
    "# Podemos então verificar que x é de fato um autovetor.\n",
    "display(x)\n",
    "display(A@x)"
   ]
  },
  {
   "cell_type": "code",
   "execution_count": 121,
   "metadata": {},
   "outputs": [
    {
     "data": {
      "text/plain": [
       "array([0.93939394, 0.84848485, 1.        ])"
      ]
     },
     "metadata": {},
     "output_type": "display_data"
    },
    {
     "data": {
      "text/plain": [
       "array([0.93939394, 0.84848485, 1.        ])"
      ]
     },
     "metadata": {},
     "output_type": "display_data"
    }
   ],
   "source": [
    "# E escrever uma função que organiza os passos.\n",
    "def autovetor(A, i=0):\n",
    "    A  = A.copy()\n",
    "    ls = calcular_autovalores_qr(A)\n",
    "    A  = subtrair_autovalor(A, ls[i])\n",
    "    A  = matriz_triangular_superior(A)\n",
    "    return substituicao_reversa(A)\n",
    "    \n",
    "x = autovetor(A)\n",
    "display(x)\n",
    "display(A@x)"
   ]
  },
  {
   "cell_type": "markdown",
   "metadata": {},
   "source": [
    "## Método da Potência\n"
   ]
  },
  {
   "cell_type": "code",
   "execution_count": 142,
   "metadata": {},
   "outputs": [
    {
     "data": {
      "text/plain": [
       "array([[0.0000000e+00, 1.0485760e-04, 6.0466176e-03],\n",
       "       [6.0466176e-03, 1.0000000e-10, 1.0240000e-07],\n",
       "       [1.0485760e-04, 9.7656250e-04, 1.0240000e-07]])"
      ]
     },
     "metadata": {},
     "output_type": "display_data"
    },
    {
     "data": {
      "text/plain": [
       "0.006046617599999997"
      ]
     },
     "metadata": {},
     "output_type": "display_data"
    },
    {
     "data": {
      "text/plain": [
       "array([55.72644808, 50.33356601, 59.32170279])"
      ]
     },
     "metadata": {},
     "output_type": "display_data"
    },
    {
     "data": {
      "text/plain": [
       "array([55.72644808, 50.33356601, 59.32170279])"
      ]
     },
     "metadata": {},
     "output_type": "display_data"
    },
    {
     "data": {
      "text/plain": [
       "array([0.58232009, 0.52596653, 0.61988912])"
      ]
     },
     "metadata": {},
     "output_type": "display_data"
    },
    {
     "data": {
      "text/plain": [
       "array([0.58232009, 0.52596653, 0.61988912])"
      ]
     },
     "metadata": {},
     "output_type": "display_data"
    }
   ],
   "source": [
    "x0 = np.array([0.0, 0.0, 1.0])\n",
    "Axk = A@x0\n",
    "for i in range(25):\n",
    "    Axk = A@Axk\n",
    "\n",
    "#Ak = A**10\n",
    "#Axk = Ak@x\n",
    "\n",
    "display(Ak)\n",
    "display(np.max(np.abs(Ak)))\n",
    "max_Ak = np.max(np.abs(Ak))\n",
    "\n",
    "xkm1 = 1/max_Ak * Axk \n",
    "display(xkm1)\n",
    "display(A@xkm1)\n",
    "\n",
    "xkm1norm = xkm1/ np.sqrt(np.dot(xkm1, xkm1))\n",
    "display(xkm1norm)\n",
    "display(A@xkm1norm)"
   ]
  }
 ],
 "metadata": {
  "interpreter": {
   "hash": "916dbcbb3f70747c44a77c7bcd40155683ae19c65e1c03b4aa3499c5328201f1"
  },
  "kernelspec": {
   "display_name": "Python 3.8.10 64-bit",
   "name": "python3"
  },
  "language_info": {
   "codemirror_mode": {
    "name": "ipython",
    "version": 3
   },
   "file_extension": ".py",
   "mimetype": "text/x-python",
   "name": "python",
   "nbconvert_exporter": "python",
   "pygments_lexer": "ipython3",
   "version": "3.8.10"
  }
 },
 "nbformat": 4,
 "nbformat_minor": 4
}
