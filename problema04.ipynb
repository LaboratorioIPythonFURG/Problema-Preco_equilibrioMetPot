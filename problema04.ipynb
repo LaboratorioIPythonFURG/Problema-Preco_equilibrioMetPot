{
 "cells": [
  {
   "cell_type": "markdown",
   "source": [
    "# Problema 4\n",
    "_(Fonte: Linear Algebra and Its Applications. Addison-Wesley Longman, 1997)_\n",
    "\n",
    "Suponha que uma economia consista nos setores de Carvão, Energia Elétrica e Aço, e a produção de cada setor\n",
    "esteja distribuída entre os demais setores de acordo com a Tabela 1. A segunda coluna da Tabela 1 mostra \n",
    "que a produção de Energia Elétrica é distribuída da seguinte forma: 40% para Carvão, 50% para Aço e os restantes\n",
    "10% para Energia Elétrica (Energia Elétrica considera esses 10% parte dos custos necessários para manter seu negócio). Determine os preços de equilíbrio, isto é, que tornam a receita de cada setor igual à sua despesa.\n",
    "\n",
    "<img src=\"image1.png\" width=\"500px\" style=\"display: block; margin:auto\" />\n",
    "<center>Fonte: Adaptado de Linear Algebra and Its Applications. Addison-Wesley Longman, 1997.</center>\n",
    "\n",
    "\n",
    "\n"
   ],
   "metadata": {}
  },
  {
   "cell_type": "markdown",
   "source": [
    "$$\n",
    "A = \n",
    "\\begin{bmatrix}\n",
    "0.0 & 0.4 & 0.6 \\\\\n",
    "0.6 & 0.1 & 0.2 \\\\\n",
    "0.4 & 0.5 & 0.2 \n",
    "\\end{bmatrix}\n",
    "=\n",
    "\\begin{bmatrix}\n",
    "0 & \\frac{4}{10} & \\frac{6}{10} \\\\\n",
    "\\frac{6}{10} & \\frac{1}{10} & \\frac{2}{10} \\\\\n",
    "\\frac{4}{10} & \\frac{5}{10} & \\frac{2}{10}\n",
    "\\end{bmatrix}\n",
    "$$"
   ],
   "metadata": {}
  },
  {
   "cell_type": "markdown",
   "source": [
    "$$ \n",
    "A - \\lambda =\n",
    "\\begin{bmatrix}\n",
    "(0 - \\lambda) & \\frac{4}{10} & \\frac{6}{10} \\\\\n",
    "\\frac{6}{10} & (\\frac{1}{10} - \\lambda) & \\frac{2}{10} \\\\\n",
    "\\frac{4}{10} & \\frac{5}{10} & (\\frac{2}{10} - \\lambda)\n",
    "\\end{bmatrix}\n",
    "$$"
   ],
   "metadata": {}
  },
  {
   "cell_type": "markdown",
   "source": [
    "$$ \n",
    "\\begin{align*}\n",
    "|A - \\lambda I| &=\n",
    "-\\lambda \\begin{vmatrix}\n",
    "(\\frac{1}{10}-\\lambda) & \\frac{2}{10} \\\\\n",
    "\\frac{5}{10} & (\\frac{2}{10} - \\lambda)\n",
    "\\end{vmatrix}\n",
    "\n",
    "-\\frac{4}{10} \\begin{vmatrix}\n",
    "\\frac{6}{10} & \\frac{2}{10} \\\\\n",
    "\\frac{4}{10} & (\\frac{2}{10} - \\lambda)\n",
    "\\end{vmatrix}\n",
    "\n",
    "+ \\frac{6}{10} \\begin{vmatrix}\n",
    "\\frac{6}{10} & (\\frac{1}{10} - \\lambda) \\\\\n",
    "\\frac{4}{10} & \\frac{5}{10}\n",
    "\\end{vmatrix}\n",
    "\\\\\n",
    "\n",
    "&= -\\lambda^3 + \\frac{3}{10}\\lambda^2 + \\frac{48}{100}\\lambda + \\frac{22}{100}\n",
    "\n",
    "\\end{align*}\n",
    "$$\n"
   ],
   "metadata": {}
  },
  {
   "cell_type": "markdown",
   "source": [
    "$$\n",
    "-\\lambda^3 + \\frac{3}{10}\\lambda^2 + \\frac{48}{100}\\lambda + \\frac{22}{100} = 0 \\\\\n",
    "\\lambda = 1 \\Rightarrow -1 + \\frac{3}{10} + \\frac{48}{100} + \\frac{22}{100} = 0\n",
    "$$"
   ],
   "metadata": {}
  },
  {
   "cell_type": "markdown",
   "source": [
    "$$\n",
    "\\lambda = 1 \\Rightarrow \n",
    "|A-\\lambda I| = \\begin{vmatrix}\n",
    "-1 & \\frac{4}{10} & \\frac{6}{10} \\\\\n",
    "\\frac{6}{10} & \\frac{-9}{10} & \\frac{2}{10} \\\\\n",
    "\\frac{4}{10} & \\frac{5}{10} & \\frac{-8}{10}\n",
    "\\end{vmatrix}\n",
    "$$"
   ],
   "metadata": {}
  },
  {
   "cell_type": "markdown",
   "source": [
    "$$\n",
    "(A - \\lambda I)v = 0 \\Leftrightarrow \\begin{bmatrix}\n",
    "-1 & \\frac{4}{10} & \\frac{6}{10} \\\\\n",
    "\\frac{6}{10} & \\frac{-9}{10} & \\frac{2}{10} \\\\\n",
    "\\frac{4}{10} & \\frac{5}{10} & \\frac{-8}{10}\n",
    "\\end{bmatrix}\n",
    "\\begin{bmatrix} v_1 \\\\ v_2 \\\\ v_3 \\end{bmatrix}\n",
    "=\n",
    "0\n",
    "$$"
   ],
   "metadata": {}
  },
  {
   "cell_type": "markdown",
   "source": [
    "$$\n",
    "\\begin{bmatrix}\n",
    "1 & 0 & 0 \\\\\n",
    "0 & 1 & 1 \\\\\n",
    "0 & 1 & 1\n",
    "\\end{bmatrix}\n",
    "\n",
    "\\begin{bmatrix}\n",
    "1 & 0 & 0 \\\\\n",
    "\\frac{6}{10} & 1 & 0 \\\\\n",
    "\\frac{4}{10} & 0 & 1 \n",
    "\\end{bmatrix}\n",
    "\n",
    "\\begin{bmatrix}\n",
    "-1 & \\frac{4}{10} & \\frac{6}{10} \\\\\n",
    "\\frac{6}{10} & \\frac{-9}{10} & \\frac{2}{10} \\\\\n",
    "\\frac{4}{10} & \\frac{5}{10} & \\frac{-8}{10}\n",
    "\\end{bmatrix}\n",
    "=\n",
    "\\begin{bmatrix}\n",
    "-1 & \\frac{4}{10} & \\frac{6}{10} \\\\\n",
    "0 & \\frac{-9}{10} & \\frac{2}{10} \\\\\n",
    "0 & \\frac{5}{10} & \\frac{-8}{10}\n",
    "\\end{bmatrix}\n",
    "\n",
    "\\begin{bmatrix}\n",
    "-1 & \\frac{4}{10} & \\frac{6}{10} \\\\\n",
    "0 & \\frac{-9}{10} & \\frac{2}{10} \\\\\n",
    "0 & 0 & 0\n",
    "\\end{bmatrix}\n",
    "$$\n",
    "\n"
   ],
   "metadata": {}
  },
  {
   "cell_type": "code",
   "execution_count": 1,
   "source": [
    "import numpy as np\n",
    "\n",
    "A = np.array([\n",
    "    [ 0.0, 0.4, 0.6 ],\n",
    "    [ 0.6, 0.1, 0.2 ],\n",
    "    [ 0.4, 0.5, 0.2 ]\n",
    "])\n",
    "\n",
    "# np.linalg.solve(A, [0.0, 0.0,0.0])\n",
    "display(np.linalg.eig(A))\n",
    "eigenv = np.linalg.eig(A)[1][:,0]*1.0\n",
    "\n",
    "display(eigenv)\n",
    "A@eigenv"
   ],
   "outputs": [
    {
     "output_type": "display_data",
     "data": {
      "text/plain": [
       "(array([ 1.  +0.j        , -0.35+0.13228757j, -0.35-0.13228757j]),\n",
       " array([[ 0.58232009+0.j  , -0.47245559+0.25j, -0.47245559-0.25j],\n",
       "        [ 0.52596653+0.j  ,  0.75592895+0.j  ,  0.75592895-0.j  ],\n",
       "        [ 0.61988912+0.j  , -0.28347335-0.25j, -0.28347335+0.25j]]))"
      ]
     },
     "metadata": {}
    },
    {
     "output_type": "display_data",
     "data": {
      "text/plain": [
       "array([0.58232009+0.j, 0.52596653+0.j, 0.61988912+0.j])"
      ]
     },
     "metadata": {}
    },
    {
     "output_type": "execute_result",
     "data": {
      "text/plain": [
       "array([0.58232009+0.j, 0.52596653+0.j, 0.61988912+0.j])"
      ]
     },
     "metadata": {},
     "execution_count": 1
    }
   ],
   "metadata": {}
  },
  {
   "cell_type": "code",
   "execution_count": 19,
   "source": [
    "v = (np.array([308.0/330.0, -56.0/-66.0, 1.0])).astype(np.float128)\n",
    "display(v)\n",
    "A.astype(np.float128)@v"
   ],
   "outputs": [
    {
     "output_type": "display_data",
     "data": {
      "text/plain": [
       "array([0.93333333, 0.84848485, 1.        ], dtype=float128)"
      ]
     },
     "metadata": {}
    },
    {
     "output_type": "execute_result",
     "data": {
      "text/plain": [
       "array([0.93939394, 0.84484848, 0.99757576], dtype=float128)"
      ]
     },
     "metadata": {},
     "execution_count": 19
    }
   ],
   "metadata": {}
  },
  {
   "cell_type": "code",
   "execution_count": 5,
   "source": [
    "A"
   ],
   "outputs": [
    {
     "output_type": "execute_result",
     "data": {
      "text/plain": [
       "array([[0. , 0.4, 0.6],\n",
       "       [0.6, 0.1, 0.2],\n",
       "       [0.4, 0.5, 0.2]])"
      ]
     },
     "metadata": {},
     "execution_count": 5
    }
   ],
   "metadata": {}
  },
  {
   "cell_type": "code",
   "execution_count": 9,
   "source": [
    "import math\n",
    "import numpy as np\n",
    "import array_to_latex as altx\n",
    "\n",
    "def proj(u,v):\n",
    "    return (np.dot(u, v) / np.dot(u, u)) * u\n",
    "\n",
    "def QR_decomp(A):\n",
    "    u = []\n",
    "    for i in range(A.shape[1]):\n",
    "        u.append(\n",
    "            A[:,i] - np.sum([ proj(u[j], A[:, i]) for j in range(i) ], axis=0 )\n",
    "        )\n",
    "\n",
    "    Q = np.array([u[i]/math.sqrt(np.dot(u[i],u[i])) for i in range(len(u))]).T\n",
    "\n",
    "    R = []\n",
    "    for i in range(A.shape[0]):\n",
    "        R.append(\n",
    "            [ np.dot(Q[:,i], A[:,j])*(1-max(0, min(i-j,1))) for j in range(A.shape[1]) ]\n",
    "        )\n",
    "\n",
    "    return Q, np.array(R)"
   ],
   "outputs": [],
   "metadata": {}
  },
  {
   "cell_type": "code",
   "execution_count": 68,
   "source": [
    "# Nem sempre converge para todos autovalores, nem somente a parte real.\n",
    "# Nesse caso A_[0,0] converge para um autovalor válido.\n",
    "# Autovalores aproximados na diagonal principal.\n",
    "# TODO: Pivotamento\n",
    "# TODO: Matriz Hessenberg\n",
    "\n",
    "def calcular_autovalores_qr(A):\n",
    "    A_ = A.copy()\n",
    "    for i in range(50000):\n",
    "        Q, R = QR_decomp(A_)\n",
    "        A_ = R@Q\n",
    "    return A_.diagonal()\n",
    "\n",
    "A_ = calcular_autovalores_qr(A)\n",
    "A_"
   ],
   "outputs": [
    {
     "output_type": "execute_result",
     "data": {
      "text/plain": [
       "array([ 1.        , -0.31854204, -0.38145796])"
      ]
     },
     "metadata": {},
     "execution_count": 68
    }
   ],
   "metadata": {}
  },
  {
   "cell_type": "code",
   "execution_count": 72,
   "source": [
    "# A - I*l_i\n",
    "def subtrair_autovalor(A, l):\n",
    "    return A-np.identity(A.shape[0])*l\n",
    "\n",
    "A__ = subtrair_autovalor(A, A_[0])\n",
    "A__"
   ],
   "outputs": [
    {
     "output_type": "execute_result",
     "data": {
      "text/plain": [
       "array([[-1. ,  0.4,  0.6],\n",
       "       [ 0.6, -0.9,  0.2],\n",
       "       [ 0.4,  0.5, -0.8]])"
      ]
     },
     "metadata": {},
     "execution_count": 72
    }
   ],
   "metadata": {}
  },
  {
   "cell_type": "code",
   "execution_count": 60,
   "source": [
    "import scipy.linalg\n",
    "\n",
    "def matriz_triangular_superior(A):\n",
    "    return scipy.linalg.lu(A)[-1]\n",
    "\n",
    "Ae = matriz_triangular_superior(A__)"
   ],
   "outputs": [],
   "metadata": {}
  },
  {
   "cell_type": "code",
   "execution_count": 73,
   "source": [
    "# TODO: Generalizar\n",
    "def substituicao_reversa(A):\n",
    "    z = 1.0\n",
    "    y = -Ae[1, -1]*z/Ae[1, -2]\n",
    "    x = (-Ae[0, -1]*z -Ae[0,-2]*y)/Ae[0,0]\n",
    "    return np.array([x, y, z])\n",
    "\n",
    "x = substituicao_reversa(Ae)"
   ],
   "outputs": [],
   "metadata": {}
  },
  {
   "cell_type": "code",
   "execution_count": 75,
   "source": [
    "display(x)\n",
    "display(A@x)"
   ],
   "outputs": [
    {
     "output_type": "display_data",
     "data": {
      "text/plain": [
       "array([0.93939394, 0.84848485, 1.        ])"
      ]
     },
     "metadata": {}
    },
    {
     "output_type": "display_data",
     "data": {
      "text/plain": [
       "array([0.93939394, 0.84848485, 1.        ])"
      ]
     },
     "metadata": {}
    }
   ],
   "metadata": {}
  },
  {
   "cell_type": "code",
   "execution_count": 84,
   "source": [
    "def autovetores(A, i=0):\n",
    "    A = A.copy()\n",
    "    ls = calcular_autovalores_qr(A)\n",
    "    A = subtrair_autovalor(A, ls[i])\n",
    "    A = matriz_triangular_superior(A)\n",
    "    return substituicao_reversa(A)\n",
    "    \n",
    "x = autovetores(A)\n",
    "display(x)\n",
    "display(A@x)"
   ],
   "outputs": [
    {
     "output_type": "display_data",
     "data": {
      "text/plain": [
       "array([0.93939394, 0.84848485, 1.        ])"
      ]
     },
     "metadata": {}
    },
    {
     "output_type": "display_data",
     "data": {
      "text/plain": [
       "array([0.93939394, 0.84848485, 1.        ])"
      ]
     },
     "metadata": {}
    }
   ],
   "metadata": {}
  }
 ],
 "metadata": {
  "kernelspec": {
   "name": "python3",
   "display_name": "Python 3.8.10 64-bit"
  },
  "language_info": {
   "codemirror_mode": {
    "name": "ipython",
    "version": 3
   },
   "file_extension": ".py",
   "mimetype": "text/x-python",
   "name": "python",
   "nbconvert_exporter": "python",
   "pygments_lexer": "ipython3",
   "version": "3.8.10"
  },
  "interpreter": {
   "hash": "916dbcbb3f70747c44a77c7bcd40155683ae19c65e1c03b4aa3499c5328201f1"
  }
 },
 "nbformat": 4,
 "nbformat_minor": 4
}